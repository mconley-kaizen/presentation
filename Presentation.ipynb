{
 "cells": [
  {
   "cell_type": "code",
   "execution_count": 1,
   "metadata": {
    "collapsed": true,
    "slideshow": {
     "slide_type": "skip"
    }
   },
   "outputs": [],
   "source": [
    "from IPython.display import IFrame"
   ]
  },
  {
   "cell_type": "markdown",
   "metadata": {
    "slideshow": {
     "slide_type": "slide"
    }
   },
   "source": [
    "# How I Use Docker for Data Science\n",
    "## Developing Models for Deployment"
   ]
  },
  {
   "cell_type": "markdown",
   "metadata": {
    "collapsed": true,
    "slideshow": {
     "slide_type": "slide"
    }
   },
   "source": [
    "Docker is great for:\n",
    "* Configuration Control\n",
    "* Repeatable Science Experiments\n",
    "* Portability\n",
    "* Application Isolation\n",
    "* Quick Pipeline Escalation and Deployment"
   ]
  },
  {
   "cell_type": "markdown",
   "metadata": {
    "collapsed": true,
    "slideshow": {
     "slide_type": "slide"
    }
   },
   "source": [
    "## Toolchain\n",
    "To build a simple deployment system, we'll use:\n",
    "* [Docker](http://www.docker.com/) &mdash; Runtime container\n",
    "* [Flask](http://flask.pocoo.org/) &mdash; Web-dev framework and wsgi server"
   ]
  },
  {
   "cell_type": "markdown",
   "metadata": {
    "collapsed": true,
    "slideshow": {
     "slide_type": "slide"
    }
   },
   "source": [
    "### Docker\n",
    "Docker is a containerization and virtualization tool\n",
    "\n",
    "Docker creates unique, isolated filesystems that share a single linux kernel\n",
    "to support a stable, lightweight solution for runtime control\n",
    "\n",
    "![Docker Stack](https://www.docker.com/sites/default/files/WhatIsDocker_3_Containers_2_0.png)"
   ]
  },
  {
   "cell_type": "markdown",
   "metadata": {
    "collapsed": true,
    "slideshow": {
     "slide_type": "slide"
    }
   },
   "source": [
    "### Docker: Quick Demo\n",
    "`$> docker pull ubuntu`\n",
    "\n",
    "`$> docker run -it --name mydocker ubuntu /bin/bash`\n",
    "\n",
    "`$> ps aux`\n",
    "\n",
    "`$> df`\n",
    "\n",
    "`$> cut -d: -f1 /etc/passwd`"
   ]
  },
  {
   "cell_type": "code",
   "execution_count": 2,
   "metadata": {
    "collapsed": true
   },
   "outputs": [],
   "source": [
    "# IFrame('http://localhost:8888/terminals/1', '100%', 500)"
   ]
  },
  {
   "cell_type": "markdown",
   "metadata": {},
   "source": [
    "### Flask\n",
    "Flask is a lightweight framework for web development\n",
    "\n",
    "Flask offers webpage templating and url rule creation\n",
    "\n",
    "Flask can also act as a simple WSGI server (WSGI is a specification for python web servers)"
   ]
  },
  {
   "cell_type": "markdown",
   "metadata": {
    "slideshow": {
     "slide_type": "slide"
    }
   },
   "source": [
    "### Flask: Quick Demo"
   ]
  },
  {
   "cell_type": "code",
   "execution_count": 3,
   "metadata": {
    "collapsed": false,
    "slideshow": {
     "slide_type": "fragment"
    }
   },
   "outputs": [],
   "source": [
    "from flask import Flask\n",
    "app = Flask(__name__)\n",
    "\n",
    "@app.route(\"/\")\n",
    "def hello():\n",
    "    return \"Hello World!\"\n",
    "\n",
    "if __name__ == \"__main__\":\n",
    "    app.run(host='0.0.0.0', port=5050)"
   ]
  },
  {
   "cell_type": "markdown",
   "metadata": {},
   "source": [
    "[hello world](http://localhost:5050/)"
   ]
  },
  {
   "cell_type": "markdown",
   "metadata": {
    "slideshow": {
     "slide_type": "slide"
    }
   },
   "source": [
    "### Flask Model Server"
   ]
  },
  {
   "cell_type": "markdown",
   "metadata": {
    "collapsed": true,
    "slideshow": {
     "slide_type": "fragment"
    }
   },
   "source": [
    "```python\n",
    "import sys\n",
    "import mymodel\n",
    "\n",
    "from flask import Flask, request, render_template\n",
    "\n",
    "app = Flask(__name__)\n",
    "\n",
    "@app.route(\"/\")\n",
    "def index():\n",
    "    args = parse_args(mymodel.main)\n",
    "    return render_template('index.html', arguments=args)\n",
    "\n",
    "@app.route('/response', methods=['GET', 'POST'])\n",
    "def response():\n",
    "    args = request.args\n",
    "    data = {key: float(args[key]) for key in args}\n",
    "    result = mymodel.main(**data)\n",
    "    return result\n",
    "\n",
    "def parse_args(function):\n",
    "    param_count = function.func_code.co_argcount\n",
    "    params = function.func_code.co_varnames\n",
    "    args = params[:param_count]\n",
    "    args = [{'id': arg, 'prompt': 'Enter {}'.format(arg)} for arg in args]\n",
    "    return args\n",
    "\n",
    "if __name__ == \"__main__\":\n",
    "    port = int(sys.argv[1])\n",
    "    app.run(host='0.0.0.0', port=port, debug=True)\n",
    "```"
   ]
  },
  {
   "cell_type": "markdown",
   "metadata": {},
   "source": [
    "### Building a Docker Application"
   ]
  },
  {
   "cell_type": "markdown",
   "metadata": {},
   "source": [
    "Building a docker image is very simple.  The only specification is the `Dockerfile`"
   ]
  },
  {
   "cell_type": "markdown",
   "metadata": {},
   "source": [
    "```bash\n",
    "$> pwd\n",
    "./Docker_for_Data_Science_Deployment\n",
    "\n",
    "$> ls\n",
    "deploy    webapp    docker_app    iris_prediction    presentation\n",
    "\n",
    "$> tree docker_app\n",
    "docker_app/\n",
    "├── Dockerfile\n",
    "└── requirements.txt\n",
    "0 directories, 2 files\n",
    "\n",
    "$> cat ./docker_app/Dockerfile\n",
    "FROM continuumio/anaconda\n",
    "RUN mkdir /home/webapp\n",
    "ADD requirements.txt /home/webapp/.\n",
    "CMD [ \"/bin/bash\" ]\n",
    "\n",
    "$> cat ./docker_app/requirements.txt\n",
    "git+https://github.com/mconley-kaizen/iris_prediction.git#egg=iris_prediction \n",
    "\n",
    "$> cd docker_app\n",
    "$> docker build -t mydockerapp .\n",
    "```"
   ]
  }
 ],
 "metadata": {
  "kernelspec": {
   "display_name": "Python 2",
   "language": "python",
   "name": "python2"
  },
  "language_info": {
   "codemirror_mode": {
    "name": "ipython",
    "version": 2
   },
   "file_extension": ".py",
   "mimetype": "text/x-python",
   "name": "python",
   "nbconvert_exporter": "python",
   "pygments_lexer": "ipython2",
   "version": "2.7.12"
  }
 },
 "nbformat": 4,
 "nbformat_minor": 0
}
